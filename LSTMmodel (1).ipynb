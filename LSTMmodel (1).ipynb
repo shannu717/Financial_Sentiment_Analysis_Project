{
 "cells": [
  {
   "cell_type": "code",
   "execution_count": 1,
   "id": "06dac190",
   "metadata": {
    "ExecuteTime": {
     "end_time": "2023-03-05T16:15:29.221270Z",
     "start_time": "2023-03-05T16:12:15.064427Z"
    }
   },
   "outputs": [],
   "source": [
    "\n",
    "import pandas as pd\n",
    "import numpy as np\n",
    "import spacy\n",
    "from matplotlib.pyplot import imread\n",
    "from matplotlib import pyplot as plt\n",
    "from wordcloud import WordCloud\n",
    "%matplotlib inline  "
   ]
  },
  {
   "cell_type": "code",
   "execution_count": 2,
   "id": "c674f675",
   "metadata": {
    "ExecuteTime": {
     "end_time": "2023-03-05T16:16:01.724377Z",
     "start_time": "2023-03-05T16:15:29.229091Z"
    }
   },
   "outputs": [],
   "source": [
    "from nltk.corpus import stopwords\n",
    "from textblob import Word\n",
    "from sklearn.preprocessing import LabelEncoder\n",
    "from collections import Counter"
   ]
  },
  {
   "cell_type": "code",
   "execution_count": 3,
   "id": "20ce7dff",
   "metadata": {
    "ExecuteTime": {
     "end_time": "2023-03-05T16:16:11.191435Z",
     "start_time": "2023-03-05T16:16:11.165893Z"
    }
   },
   "outputs": [],
   "source": [
    "from sklearn.metrics import classification_report,confusion_matrix,accuracy_score\n",
    "from keras.models import Sequential\n",
    "from keras.preprocessing.text import Tokenizer\n",
    "from keras.layers import Dense, Embedding, LSTM, SpatialDropout1D\n",
    "from sklearn.model_selection import train_test_split \n",
    "from keras.metrics import Precision, Recall"
   ]
  },
  {
   "cell_type": "code",
   "execution_count": 4,
   "id": "2f216e44",
   "metadata": {
    "ExecuteTime": {
     "end_time": "2023-03-05T16:16:12.386294Z",
     "start_time": "2023-03-05T16:16:11.490293Z"
    }
   },
   "outputs": [
    {
     "data": {
      "text/html": [
       "<div>\n",
       "<style scoped>\n",
       "    .dataframe tbody tr th:only-of-type {\n",
       "        vertical-align: middle;\n",
       "    }\n",
       "\n",
       "    .dataframe tbody tr th {\n",
       "        vertical-align: top;\n",
       "    }\n",
       "\n",
       "    .dataframe thead th {\n",
       "        text-align: right;\n",
       "    }\n",
       "</style>\n",
       "<table border=\"1\" class=\"dataframe\">\n",
       "  <thead>\n",
       "    <tr style=\"text-align: right;\">\n",
       "      <th></th>\n",
       "      <th>Sentence</th>\n",
       "      <th>Sentiment</th>\n",
       "    </tr>\n",
       "  </thead>\n",
       "  <tbody>\n",
       "    <tr>\n",
       "      <th>0</th>\n",
       "      <td>The GeoSolutions technology will leverage Bene...</td>\n",
       "      <td>positive</td>\n",
       "    </tr>\n",
       "    <tr>\n",
       "      <th>1</th>\n",
       "      <td>$ESI on lows, down $1.50 to $2.50 BK a real po...</td>\n",
       "      <td>negative</td>\n",
       "    </tr>\n",
       "    <tr>\n",
       "      <th>2</th>\n",
       "      <td>For the last quarter of 2010 , Componenta 's n...</td>\n",
       "      <td>positive</td>\n",
       "    </tr>\n",
       "    <tr>\n",
       "      <th>3</th>\n",
       "      <td>According to the Finnish-Russian Chamber of Co...</td>\n",
       "      <td>neutral</td>\n",
       "    </tr>\n",
       "    <tr>\n",
       "      <th>4</th>\n",
       "      <td>The Swedish buyout firm has sold its remaining...</td>\n",
       "      <td>neutral</td>\n",
       "    </tr>\n",
       "    <tr>\n",
       "      <th>...</th>\n",
       "      <td>...</td>\n",
       "      <td>...</td>\n",
       "    </tr>\n",
       "    <tr>\n",
       "      <th>5831</th>\n",
       "      <td>RISING costs have forced packaging producer Hu...</td>\n",
       "      <td>negative</td>\n",
       "    </tr>\n",
       "    <tr>\n",
       "      <th>5832</th>\n",
       "      <td>Nordic Walking was first used as a summer trai...</td>\n",
       "      <td>neutral</td>\n",
       "    </tr>\n",
       "    <tr>\n",
       "      <th>5833</th>\n",
       "      <td>According shipping company Viking Line , the E...</td>\n",
       "      <td>neutral</td>\n",
       "    </tr>\n",
       "    <tr>\n",
       "      <th>5834</th>\n",
       "      <td>In the building and home improvement trade , s...</td>\n",
       "      <td>neutral</td>\n",
       "    </tr>\n",
       "    <tr>\n",
       "      <th>5835</th>\n",
       "      <td>HELSINKI AFX - KCI Konecranes said it has won ...</td>\n",
       "      <td>positive</td>\n",
       "    </tr>\n",
       "  </tbody>\n",
       "</table>\n",
       "<p>5836 rows × 2 columns</p>\n",
       "</div>"
      ],
      "text/plain": [
       "                                               Sentence Sentiment\n",
       "0     The GeoSolutions technology will leverage Bene...  positive\n",
       "1     $ESI on lows, down $1.50 to $2.50 BK a real po...  negative\n",
       "2     For the last quarter of 2010 , Componenta 's n...  positive\n",
       "3     According to the Finnish-Russian Chamber of Co...   neutral\n",
       "4     The Swedish buyout firm has sold its remaining...   neutral\n",
       "...                                                 ...       ...\n",
       "5831  RISING costs have forced packaging producer Hu...  negative\n",
       "5832  Nordic Walking was first used as a summer trai...   neutral\n",
       "5833  According shipping company Viking Line , the E...   neutral\n",
       "5834  In the building and home improvement trade , s...   neutral\n",
       "5835  HELSINKI AFX - KCI Konecranes said it has won ...  positive\n",
       "\n",
       "[5836 rows x 2 columns]"
      ]
     },
     "execution_count": 4,
     "metadata": {},
     "output_type": "execute_result"
    }
   ],
   "source": [
    "df = pd.read_csv(\"financial_sentiment_data.csv\")\n",
    "df"
   ]
  },
  {
   "cell_type": "code",
   "execution_count": 5,
   "id": "cf00629a",
   "metadata": {
    "ExecuteTime": {
     "end_time": "2023-03-05T16:16:12.624609Z",
     "start_time": "2023-03-05T16:16:12.395196Z"
    }
   },
   "outputs": [],
   "source": [
    "def convert_target(targets):\n",
    "    sent = {'positive': 1, 'neutral': 0 , 'negative': -1}\n",
    "    return df.Sentiment.map(sent) \n",
    "df.Sentiment=convert_target(df.Sentiment) "
   ]
  },
  {
   "cell_type": "code",
   "execution_count": 6,
   "id": "ced4ed3c",
   "metadata": {
    "ExecuteTime": {
     "end_time": "2023-03-05T16:16:12.750246Z",
     "start_time": "2023-03-05T16:16:12.702710Z"
    }
   },
   "outputs": [
    {
     "data": {
      "text/html": [
       "<div>\n",
       "<style scoped>\n",
       "    .dataframe tbody tr th:only-of-type {\n",
       "        vertical-align: middle;\n",
       "    }\n",
       "\n",
       "    .dataframe tbody tr th {\n",
       "        vertical-align: top;\n",
       "    }\n",
       "\n",
       "    .dataframe thead th {\n",
       "        text-align: right;\n",
       "    }\n",
       "</style>\n",
       "<table border=\"1\" class=\"dataframe\">\n",
       "  <thead>\n",
       "    <tr style=\"text-align: right;\">\n",
       "      <th></th>\n",
       "      <th>Sentence</th>\n",
       "      <th>Sentiment</th>\n",
       "    </tr>\n",
       "  </thead>\n",
       "  <tbody>\n",
       "    <tr>\n",
       "      <th>0</th>\n",
       "      <td>The GeoSolutions technology will leverage Bene...</td>\n",
       "      <td>1</td>\n",
       "    </tr>\n",
       "    <tr>\n",
       "      <th>1</th>\n",
       "      <td>$ESI on lows, down $1.50 to $2.50 BK a real po...</td>\n",
       "      <td>-1</td>\n",
       "    </tr>\n",
       "    <tr>\n",
       "      <th>2</th>\n",
       "      <td>For the last quarter of 2010 , Componenta 's n...</td>\n",
       "      <td>1</td>\n",
       "    </tr>\n",
       "    <tr>\n",
       "      <th>3</th>\n",
       "      <td>According to the Finnish-Russian Chamber of Co...</td>\n",
       "      <td>0</td>\n",
       "    </tr>\n",
       "    <tr>\n",
       "      <th>4</th>\n",
       "      <td>The Swedish buyout firm has sold its remaining...</td>\n",
       "      <td>0</td>\n",
       "    </tr>\n",
       "    <tr>\n",
       "      <th>...</th>\n",
       "      <td>...</td>\n",
       "      <td>...</td>\n",
       "    </tr>\n",
       "    <tr>\n",
       "      <th>5831</th>\n",
       "      <td>RISING costs have forced packaging producer Hu...</td>\n",
       "      <td>-1</td>\n",
       "    </tr>\n",
       "    <tr>\n",
       "      <th>5832</th>\n",
       "      <td>Nordic Walking was first used as a summer trai...</td>\n",
       "      <td>0</td>\n",
       "    </tr>\n",
       "    <tr>\n",
       "      <th>5833</th>\n",
       "      <td>According shipping company Viking Line , the E...</td>\n",
       "      <td>0</td>\n",
       "    </tr>\n",
       "    <tr>\n",
       "      <th>5834</th>\n",
       "      <td>In the building and home improvement trade , s...</td>\n",
       "      <td>0</td>\n",
       "    </tr>\n",
       "    <tr>\n",
       "      <th>5835</th>\n",
       "      <td>HELSINKI AFX - KCI Konecranes said it has won ...</td>\n",
       "      <td>1</td>\n",
       "    </tr>\n",
       "  </tbody>\n",
       "</table>\n",
       "<p>5836 rows × 2 columns</p>\n",
       "</div>"
      ],
      "text/plain": [
       "                                               Sentence  Sentiment\n",
       "0     The GeoSolutions technology will leverage Bene...          1\n",
       "1     $ESI on lows, down $1.50 to $2.50 BK a real po...         -1\n",
       "2     For the last quarter of 2010 , Componenta 's n...          1\n",
       "3     According to the Finnish-Russian Chamber of Co...          0\n",
       "4     The Swedish buyout firm has sold its remaining...          0\n",
       "...                                                 ...        ...\n",
       "5831  RISING costs have forced packaging producer Hu...         -1\n",
       "5832  Nordic Walking was first used as a summer trai...          0\n",
       "5833  According shipping company Viking Line , the E...          0\n",
       "5834  In the building and home improvement trade , s...          0\n",
       "5835  HELSINKI AFX - KCI Konecranes said it has won ...          1\n",
       "\n",
       "[5836 rows x 2 columns]"
      ]
     },
     "execution_count": 6,
     "metadata": {},
     "output_type": "execute_result"
    }
   ],
   "source": [
    "df"
   ]
  },
  {
   "cell_type": "code",
   "execution_count": 7,
   "id": "9918ea28",
   "metadata": {
    "ExecuteTime": {
     "end_time": "2023-03-05T16:16:12.983055Z",
     "start_time": "2023-03-05T16:16:12.758191Z"
    }
   },
   "outputs": [],
   "source": [
    "df=df.drop_duplicates(keep='first') "
   ]
  },
  {
   "cell_type": "code",
   "execution_count": 8,
   "id": "c472956d",
   "metadata": {
    "ExecuteTime": {
     "end_time": "2023-03-05T16:16:13.201146Z",
     "start_time": "2023-03-05T16:16:12.992295Z"
    }
   },
   "outputs": [
    {
     "data": {
      "text/plain": [
       " 0    3124\n",
       " 1    1852\n",
       "-1     860\n",
       "Name: Sentiment, dtype: int64"
      ]
     },
     "execution_count": 8,
     "metadata": {},
     "output_type": "execute_result"
    }
   ],
   "source": [
    "df['Sentiment'].value_counts()"
   ]
  },
  {
   "cell_type": "code",
   "execution_count": 9,
   "id": "a2f2c33a",
   "metadata": {
    "ExecuteTime": {
     "end_time": "2023-03-05T16:16:16.638976Z",
     "start_time": "2023-03-05T16:16:13.201146Z"
    }
   },
   "outputs": [
    {
     "name": "stderr",
     "output_type": "stream",
     "text": [
      "[nltk_data] Downloading package stopwords to\n",
      "[nltk_data]     C:\\Users\\Lenovo\\AppData\\Roaming\\nltk_data...\n",
      "[nltk_data]   Package stopwords is already up-to-date!\n",
      "[nltk_data] Downloading package wordnet to\n",
      "[nltk_data]     C:\\Users\\Lenovo\\AppData\\Roaming\\nltk_data...\n",
      "[nltk_data]   Package wordnet is already up-to-date!\n",
      "[nltk_data] Downloading package omw-1.4 to\n",
      "[nltk_data]     C:\\Users\\Lenovo\\AppData\\Roaming\\nltk_data...\n",
      "[nltk_data]   Package omw-1.4 is already up-to-date!\n"
     ]
    },
    {
     "data": {
      "text/plain": [
       "True"
      ]
     },
     "execution_count": 9,
     "metadata": {},
     "output_type": "execute_result"
    }
   ],
   "source": [
    "import nltk\n",
    "nltk.download('stopwords')\n",
    "nltk.download('wordnet')\n",
    "nltk.download('omw-1.4')"
   ]
  },
  {
   "cell_type": "code",
   "execution_count": 10,
   "id": "9cf80f9c",
   "metadata": {
    "ExecuteTime": {
     "end_time": "2023-03-05T16:16:27.073123Z",
     "start_time": "2023-03-05T16:16:16.653875Z"
    }
   },
   "outputs": [
    {
     "data": {
      "text/html": [
       "<div>\n",
       "<style scoped>\n",
       "    .dataframe tbody tr th:only-of-type {\n",
       "        vertical-align: middle;\n",
       "    }\n",
       "\n",
       "    .dataframe tbody tr th {\n",
       "        vertical-align: top;\n",
       "    }\n",
       "\n",
       "    .dataframe thead th {\n",
       "        text-align: right;\n",
       "    }\n",
       "</style>\n",
       "<table border=\"1\" class=\"dataframe\">\n",
       "  <thead>\n",
       "    <tr style=\"text-align: right;\">\n",
       "      <th></th>\n",
       "      <th>Sentence</th>\n",
       "      <th>Sentiment</th>\n",
       "    </tr>\n",
       "  </thead>\n",
       "  <tbody>\n",
       "    <tr>\n",
       "      <th>0</th>\n",
       "      <td>geosolutions technology leverage benefon 's gp...</td>\n",
       "      <td>1</td>\n",
       "    </tr>\n",
       "    <tr>\n",
       "      <th>1</th>\n",
       "      <td>$esi lows, $1.50 $2.50 bk real possibility</td>\n",
       "      <td>-1</td>\n",
       "    </tr>\n",
       "    <tr>\n",
       "      <th>2</th>\n",
       "      <td>last quarter 2010 , componenta 's net sale oub...</td>\n",
       "      <td>1</td>\n",
       "    </tr>\n",
       "    <tr>\n",
       "      <th>3</th>\n",
       "      <td>accoring finnish-russian chamber commerce , ma...</td>\n",
       "      <td>0</td>\n",
       "    </tr>\n",
       "    <tr>\n",
       "      <th>4</th>\n",
       "      <td>sweish buyout firm sol remaining 22.4 percent ...</td>\n",
       "      <td>0</td>\n",
       "    </tr>\n",
       "  </tbody>\n",
       "</table>\n",
       "</div>"
      ],
      "text/plain": [
       "                                            Sentence  Sentiment\n",
       "0  geosolutions technology leverage benefon 's gp...          1\n",
       "1         $esi lows, $1.50 $2.50 bk real possibility         -1\n",
       "2  last quarter 2010 , componenta 's net sale oub...          1\n",
       "3  accoring finnish-russian chamber commerce , ma...          0\n",
       "4  sweish buyout firm sol remaining 22.4 percent ...          0"
      ]
     },
     "execution_count": 10,
     "metadata": {},
     "output_type": "execute_result"
    }
   ],
   "source": [
    "def cleaning(df, stop_words):\n",
    "    df['Sentence'] = df['Sentence'].apply(lambda x:' '.join(x.lower() for x in x.split()))\n",
    "    # Replacing the digits/numbers\n",
    "    df['Sentence'] = df['Sentence'].str.replace('d', '')\n",
    "    # Removing stop words\n",
    "    df['Sentence'] = df['Sentence'].apply(lambda x:' '.join(x for x in x.split() if x not in stop_words))\n",
    "    # Lemmatization\n",
    "    df['Sentence'] = df['Sentence'].apply(lambda x:' '.join([Word(x).lemmatize() for x in x.split()]))\n",
    "    return df\n",
    "\n",
    "stop_words = stopwords.words('english')\n",
    "data = cleaning(df, stop_words)\n",
    "data.head()"
   ]
  },
  {
   "cell_type": "code",
   "execution_count": 11,
   "id": "a36cc34c",
   "metadata": {
    "ExecuteTime": {
     "end_time": "2023-03-05T16:16:27.814938Z",
     "start_time": "2023-03-05T16:16:27.073123Z"
    }
   },
   "outputs": [
    {
     "data": {
      "text/html": [
       "<div>\n",
       "<style scoped>\n",
       "    .dataframe tbody tr th:only-of-type {\n",
       "        vertical-align: middle;\n",
       "    }\n",
       "\n",
       "    .dataframe tbody tr th {\n",
       "        vertical-align: top;\n",
       "    }\n",
       "\n",
       "    .dataframe thead th {\n",
       "        text-align: right;\n",
       "    }\n",
       "</style>\n",
       "<table border=\"1\" class=\"dataframe\">\n",
       "  <thead>\n",
       "    <tr style=\"text-align: right;\">\n",
       "      <th></th>\n",
       "      <th>Sentence</th>\n",
       "      <th>Sentiment</th>\n",
       "    </tr>\n",
       "  </thead>\n",
       "  <tbody>\n",
       "    <tr>\n",
       "      <th>0</th>\n",
       "      <td>geosolutions technology leverage benefon 's gp...</td>\n",
       "      <td>2</td>\n",
       "    </tr>\n",
       "    <tr>\n",
       "      <th>1</th>\n",
       "      <td>$esi lows, $1.50 $2.50 bk real possibility</td>\n",
       "      <td>0</td>\n",
       "    </tr>\n",
       "    <tr>\n",
       "      <th>2</th>\n",
       "      <td>last quarter 2010 , componenta 's net sale oub...</td>\n",
       "      <td>2</td>\n",
       "    </tr>\n",
       "    <tr>\n",
       "      <th>3</th>\n",
       "      <td>accoring finnish-russian chamber commerce , ma...</td>\n",
       "      <td>1</td>\n",
       "    </tr>\n",
       "    <tr>\n",
       "      <th>4</th>\n",
       "      <td>sweish buyout firm sol remaining 22.4 percent ...</td>\n",
       "      <td>1</td>\n",
       "    </tr>\n",
       "  </tbody>\n",
       "</table>\n",
       "</div>"
      ],
      "text/plain": [
       "                                            Sentence  Sentiment\n",
       "0  geosolutions technology leverage benefon 's gp...          2\n",
       "1         $esi lows, $1.50 $2.50 bk real possibility          0\n",
       "2  last quarter 2010 , componenta 's net sale oub...          2\n",
       "3  accoring finnish-russian chamber commerce , ma...          1\n",
       "4  sweish buyout firm sol remaining 22.4 percent ...          1"
      ]
     },
     "execution_count": 11,
     "metadata": {},
     "output_type": "execute_result"
    }
   ],
   "source": [
    "# Encoded the target column\n",
    "lb=LabelEncoder()\n",
    "data['Sentiment'] = lb.fit_transform(data['Sentiment'])\n",
    "data.head()"
   ]
  },
  {
   "cell_type": "code",
   "execution_count": 12,
   "id": "1e28670e",
   "metadata": {
    "ExecuteTime": {
     "end_time": "2023-03-05T16:17:57.253743Z",
     "start_time": "2023-03-05T16:16:28.007009Z"
    }
   },
   "outputs": [
    {
     "name": "stdout",
     "output_type": "stream",
     "text": [
      "Requirement already satisfied: Keras-Preprocessing in c:\\users\\lenovo\\anaconda3\\lib\\site-packages (1.1.2)\n",
      "Requirement already satisfied: numpy>=1.9.1 in c:\\users\\lenovo\\anaconda3\\lib\\site-packages (from Keras-Preprocessing) (1.21.5)\n",
      "Requirement already satisfied: six>=1.9.0 in c:\\users\\lenovo\\anaconda3\\lib\\site-packages (from Keras-Preprocessing) (1.16.0)\n"
     ]
    },
    {
     "name": "stderr",
     "output_type": "stream",
     "text": [
      "WARNING: Ignoring invalid distribution -rotobuf (c:\\users\\lenovo\\anaconda3\\lib\\site-packages)\n",
      "WARNING: Ignoring invalid distribution -rotobuf (c:\\users\\lenovo\\anaconda3\\lib\\site-packages)\n",
      "WARNING: Ignoring invalid distribution -rotobuf (c:\\users\\lenovo\\anaconda3\\lib\\site-packages)\n",
      "WARNING: Ignoring invalid distribution -rotobuf (c:\\users\\lenovo\\anaconda3\\lib\\site-packages)\n",
      "WARNING: Ignoring invalid distribution -rotobuf (c:\\users\\lenovo\\anaconda3\\lib\\site-packages)\n",
      "WARNING: Ignoring invalid distribution -rotobuf (c:\\users\\lenovo\\anaconda3\\lib\\site-packages)\n"
     ]
    }
   ],
   "source": [
    "!pip install Keras-Preprocessing"
   ]
  },
  {
   "cell_type": "code",
   "execution_count": 13,
   "id": "677e54ed",
   "metadata": {
    "ExecuteTime": {
     "end_time": "2023-03-05T16:17:57.296825Z",
     "start_time": "2023-03-05T16:17:57.271778Z"
    }
   },
   "outputs": [],
   "source": [
    "from keras_preprocessing.sequence import pad_sequences"
   ]
  },
  {
   "cell_type": "code",
   "execution_count": 14,
   "id": "d7fa032d",
   "metadata": {
    "ExecuteTime": {
     "end_time": "2023-03-05T16:17:57.493156Z",
     "start_time": "2023-03-05T16:17:57.309743Z"
    }
   },
   "outputs": [],
   "source": [
    "import pickle"
   ]
  },
  {
   "cell_type": "code",
   "execution_count": 16,
   "id": "9553bee8",
   "metadata": {
    "ExecuteTime": {
     "end_time": "2023-03-05T16:18:44.279755Z",
     "start_time": "2023-03-05T16:18:43.585826Z"
    }
   },
   "outputs": [],
   "source": [
    "# tokenize input text\n",
    "tokenizer = Tokenizer(num_words=500, split=' ') \n",
    "tokenizer.fit_on_texts(data['Sentence'].values)\n",
    "X = tokenizer.texts_to_sequences(data['Sentence'].values)\n",
    "X = pad_sequences(X) "
   ]
  },
  {
   "cell_type": "code",
   "execution_count": 17,
   "id": "5d3f9e01",
   "metadata": {
    "ExecuteTime": {
     "end_time": "2023-03-05T16:19:06.335342Z",
     "start_time": "2023-03-05T16:19:05.831055Z"
    }
   },
   "outputs": [],
   "source": [
    "# saving tokenizer\n",
    "with open('tokenizer_LSTM.pkl', 'wb') as handle:\n",
    "    pickle.dump(tokenizer, handle, protocol=pickle.HIGHEST_PROTOCOL)"
   ]
  },
  {
   "cell_type": "code",
   "execution_count": 18,
   "id": "484c6e53",
   "metadata": {
    "ExecuteTime": {
     "end_time": "2023-03-05T16:19:36.512533Z",
     "start_time": "2023-03-05T16:19:30.789218Z"
    }
   },
   "outputs": [
    {
     "name": "stdout",
     "output_type": "stream",
     "text": [
      "Model: \"sequential\"\n",
      "_________________________________________________________________\n",
      " Layer (type)                Output Shape              Param #   \n",
      "=================================================================\n",
      " embedding (Embedding)       (None, 51, 120)           60000     \n",
      "                                                                 \n",
      " spatial_dropout1d (SpatialD  (None, 51, 120)          0         \n",
      " ropout1D)                                                       \n",
      "                                                                 \n",
      " lstm (LSTM)                 (None, 176)               209088    \n",
      "                                                                 \n",
      " dense (Dense)               (None, 3)                 531       \n",
      "                                                                 \n",
      "=================================================================\n",
      "Total params: 269,619\n",
      "Trainable params: 269,619\n",
      "Non-trainable params: 0\n",
      "_________________________________________________________________\n",
      "None\n"
     ]
    }
   ],
   "source": [
    "# create model architecture\n",
    "model = Sequential()\n",
    "model.add(Embedding(500, 120, input_length = X.shape[1]))\n",
    "model.add(SpatialDropout1D(0.4))\n",
    "model.add(LSTM(176, dropout=0.2, recurrent_dropout=0.2))\n",
    "model.add(Dense(3,activation='softmax'))\n",
    "model.compile(loss = 'categorical_crossentropy', optimizer='adam', metrics = ['accuracy', Precision(), Recall()])\n",
    "print(model.summary())"
   ]
  },
  {
   "cell_type": "code",
   "execution_count": 19,
   "id": "fda262c9",
   "metadata": {
    "ExecuteTime": {
     "end_time": "2023-03-05T16:19:52.626862Z",
     "start_time": "2023-03-05T16:19:52.001420Z"
    }
   },
   "outputs": [],
   "source": [
    "# Splitting the data into training and testing\n",
    "y = pd.get_dummies(data['Sentiment'])\n",
    "X_train, X_test, y_train, y_test = train_test_split(X,y, test_size = 0.3, random_state = 42)"
   ]
  },
  {
   "cell_type": "code",
   "execution_count": 20,
   "id": "c525447a",
   "metadata": {
    "ExecuteTime": {
     "end_time": "2023-03-05T16:27:38.697846Z",
     "start_time": "2023-03-05T16:20:21.961618Z"
    }
   },
   "outputs": [
    {
     "name": "stdout",
     "output_type": "stream",
     "text": [
      "Epoch 1/5\n",
      "128/128 [==============================] - 120s 764ms/step - loss: 0.9494 - accuracy: 0.5469 - precision: 0.6176 - recall: 0.3111 - val_loss: 0.8444 - val_accuracy: 0.6191 - val_precision: 0.7197 - val_recall: 0.4546\n",
      "Epoch 2/5\n",
      "128/128 [==============================] - 80s 626ms/step - loss: 0.8011 - accuracy: 0.6406 - precision: 0.7213 - recall: 0.5214 - val_loss: 0.7767 - val_accuracy: 0.6562 - val_precision: 0.7446 - val_recall: 0.5311\n",
      "Epoch 3/5\n",
      "128/128 [==============================] - 77s 596ms/step - loss: 0.7067 - accuracy: 0.6925 - precision: 0.7505 - recall: 0.6059 - val_loss: 0.7553 - val_accuracy: 0.6568 - val_precision: 0.7026 - val_recall: 0.5762\n",
      "Epoch 4/5\n",
      "128/128 [==============================] - 76s 596ms/step - loss: 0.6745 - accuracy: 0.6952 - precision: 0.7470 - recall: 0.6282 - val_loss: 0.7611 - val_accuracy: 0.6516 - val_precision: 0.7091 - val_recall: 0.5791\n",
      "Epoch 5/5\n",
      "128/128 [==============================] - 78s 613ms/step - loss: 0.6409 - accuracy: 0.7099 - precision: 0.7571 - recall: 0.6502 - val_loss: 0.7738 - val_accuracy: 0.6431 - val_precision: 0.6720 - val_recall: 0.5757\n"
     ]
    }
   ],
   "source": [
    "# run model \n",
    "batch_size=32\n",
    "history = model.fit(X_train, y_train, \n",
    "                    validation_data = (X_test, y_test),\n",
    "                    epochs = 5, batch_size = batch_size, \n",
    "                    verbose = 'auto')"
   ]
  },
  {
   "cell_type": "code",
   "execution_count": 21,
   "id": "40774b2b",
   "metadata": {
    "ExecuteTime": {
     "end_time": "2023-03-05T16:27:46.340507Z",
     "start_time": "2023-03-05T16:27:38.713923Z"
    }
   },
   "outputs": [
    {
     "name": "stdout",
     "output_type": "stream",
     "text": [
      "55/55 [==============================] - 7s 132ms/step - loss: 0.7738 - accuracy: 0.6431 - precision: 0.6720 - recall: 0.5757\n"
     ]
    },
    {
     "data": {
      "text/plain": [
       "[0.7738423347473145, 0.643061101436615, 0.671999990940094, 0.5756710171699524]"
      ]
     },
     "execution_count": 21,
     "metadata": {},
     "output_type": "execute_result"
    }
   ],
   "source": [
    "# evaluate the model on testing dataset\n",
    "model.evaluate(X_test,y_test)"
   ]
  },
  {
   "cell_type": "code",
   "execution_count": 22,
   "id": "1c5b485e",
   "metadata": {
    "ExecuteTime": {
     "end_time": "2023-03-05T16:28:21.316676Z",
     "start_time": "2023-03-05T16:27:46.350442Z"
    }
   },
   "outputs": [
    {
     "name": "stdout",
     "output_type": "stream",
     "text": [
      "55/55 [==============================] - 8s 128ms/step\n"
     ]
    },
    {
     "data": {
      "image/png": "[encoded data removed]",
      "text/plain": [
       "<Figure size 800x600 with 2 Axes>"
      ]
     },
     "metadata": {},
     "output_type": "display_data"
    }
   ],
   "source": [
    "# check model's performance on testing data\n",
    "import numpy as np\n",
    "from sklearn.metrics import confusion_matrix\n",
    "import seaborn as sns \n",
    "\n",
    "def plot_confusion_matrix(model, X_test, y_test):\n",
    "    '''Function to plot confusion matrix for the passed model and the data'''\n",
    "    \n",
    "    sentiment_classes = ['Negative', 'Neutral', 'Positive']\n",
    "    # use model to do the prediction\n",
    "    y_pred = model.predict(X_test)\n",
    "    # compute confusion matrix\n",
    "    cm = confusion_matrix(np.argmax(np.array(y_test),axis=1), np.argmax(y_pred, axis=1))\n",
    "    # plot confusion matrix\n",
    "    plt.figure(figsize=(8,6))\n",
    "    sns.heatmap(cm, cmap=plt.cm.Blues, annot=True, fmt='d', \n",
    "                xticklabels=sentiment_classes,\n",
    "                yticklabels=sentiment_classes)\n",
    "    plt.title('Confusion matrix', fontsize=16)\n",
    "    plt.xlabel('Actual label', fontsize=12)\n",
    "    plt.ylabel('Predicted label', fontsize=12)\n",
    "    \n",
    "plot_confusion_matrix(model, X_test, y_test) "
   ]
  },
  {
   "cell_type": "code",
   "execution_count": 23,
   "id": "9a535b17",
   "metadata": {
    "ExecuteTime": {
     "end_time": "2023-03-05T16:28:23.708805Z",
     "start_time": "2023-03-05T16:28:21.318515Z"
    }
   },
   "outputs": [],
   "source": [
    "# save model\n",
    "model.save('model_LSTM.h5') "
   ]
  },
  {
   "cell_type": "code",
   "execution_count": null,
   "id": "fffe7222",
   "metadata": {},
   "outputs": [],
   "source": []
  }
 ],
 "metadata": {
  "kernelspec": {
   "display_name": "Python 3 (ipykernel)",
   "language": "python",
   "name": "python3"
  },
  "language_info": {
   "codemirror_mode": {
    "name": "ipython",
    "version": 3
   },
   "file_extension": ".py",
   "mimetype": "text/x-python",
   "name": "python",
   "nbconvert_exporter": "python",
   "pygments_lexer": "ipython3",
   "version": "3.9.13"
  }
 },
 "nbformat": 4,
 "nbformat_minor": 5
}
